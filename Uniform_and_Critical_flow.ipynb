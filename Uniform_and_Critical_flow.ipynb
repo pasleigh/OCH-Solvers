{
 "cells": [
  {
   "cell_type": "markdown",
   "source": [
    "# Open Channel Flow Calculations\n",
    "\n",
    "## This notebook shows how to calculate some common Open Channel Flow calculations such as:\n",
    "\n",
    "1. $Q$ from $y_n$ (and channel properties) using either Manning's or Chezy equation\n",
    "2. $y_n$ from $Q$ and other channel properties\n",
    "3. Critical depth, $y_c$\n",
    "4. Critical Slope, $So_c$\n",
    "5. Solution of cubic equations e.g. for *Specific Energy* calculations \n"
   ],
   "metadata": {
    "collapsed": false
   },
   "id": "c2597586e1452b89"
  },
  {
   "cell_type": "markdown",
   "source": [
    "## Chezy form of the Uniform Flow equation\n",
    "$$\n",
    "Q = ACR^{1/2}S_o^{1/2}\n",
    "$$\n",
    "\n",
    "## Manning's form of the Uniform Flow equation\n",
    "$$\n",
    "Q = \\frac{1}{n} AR^{2/3}S_o^{1/2}\n",
    "$$"
   ],
   "metadata": {
    "collapsed": false
   },
   "id": "4e581c24fdd62a3d"
  },
  {
   "cell_type": "markdown",
   "source": [
    "## Chezy example $Q$ from $y_n$ for rectangular channel\n",
    "\n",
    "\n",
    "Here are the equations for properties of a rectangular channel given the depth $y$\n",
    "    \n",
    "If flow in a $6m$ wide  rectangular channel is $4m$ deep running when in uniform flow what wiil be the discharge, $Q$ if the Chezy $C = 50 m^{1/2}/s$ and the slope of the channel is 1 in 1000?\n",
    "\n",
    "We will need these equations of the channel properties:\n",
    "\n",
    "![Properties of a rectangular channel](./images/channel_props_rectangular.png \"Properties of a rectangular channel\")\n",
    "\n"
   ],
   "metadata": {
    "collapsed": false
   },
   "id": "b1162922af66410f"
  },
  {
   "cell_type": "code",
   "execution_count": 53,
   "outputs": [
    {
     "name": "stdout",
     "output_type": "stream",
     "text": [
      "Q = 49.685 m^3/s\n"
     ]
    }
   ],
   "source": [
    "b = 6\n",
    "C = 50\n",
    "yn = 4\n",
    "slope_v = 1\n",
    "slope_h = 1000\n",
    "So = slope_v/slope_h\n",
    "\n",
    "A = b*yn\n",
    "P = b + 2*yn\n",
    "R = A/P\n",
    "\n",
    "Q = A*C*(R**0.5)*(So**0.5)\n",
    "\n",
    "print(\"Q = %6.3f m^3/s\" % (Q))"
   ],
   "metadata": {
    "collapsed": false,
    "ExecuteTime": {
     "end_time": "2023-10-12T09:13:39.329211Z",
     "start_time": "2023-10-12T09:13:39.265698700Z"
    }
   },
   "id": "794dae70209bfb8c"
  },
  {
   "cell_type": "markdown",
   "source": [
    "## Manning's example $Q$ from $y_n$ for rectangular channel\n",
    "\n",
    "Same example as above but use Manning's $n = 0.02$\n"
   ],
   "metadata": {
    "collapsed": false
   },
   "id": "626a2ba0e793831a"
  },
  {
   "cell_type": "code",
   "execution_count": 54,
   "outputs": [
    {
     "name": "stdout",
     "output_type": "stream",
     "text": [
      "Q = 54.355 m^3/s\n"
     ]
    }
   ],
   "source": [
    "b = 6\n",
    "n = 0.02\n",
    "yn = 4\n",
    "slope_v = 1\n",
    "slope_h = 1000\n",
    "So = slope_v/slope_h\n",
    "\n",
    "A = b*yn\n",
    "P = b + 2*yn\n",
    "R = A/P\n",
    "\n",
    "Q = A*(R**(2/3))*(So**0.5)/n\n",
    "\n",
    "print(\"Q = %6.3f m^3/s\" % (Q))"
   ],
   "metadata": {
    "collapsed": false,
    "ExecuteTime": {
     "end_time": "2023-10-12T09:13:39.331211100Z",
     "start_time": "2023-10-12T09:13:39.278699Z"
    }
   },
   "id": "9a29f3bc13ceea30"
  },
  {
   "cell_type": "markdown",
   "source": [
    "## Chezy equation calculate *normal depth*, $y_n$, from $Q$ and channel properties\n",
    "\n",
    "For a rectangular channel of width $6m$, flowing in *uniform flow* with $Q = 30m^3/s$ calculate the normal depth $y_n$\n",
    "if the Chezy $C = 50 m^{1/2}/s$ and the channel slopes with a drop of $1m$ in $1000m$"
   ],
   "metadata": {
    "collapsed": false
   },
   "id": "4c1ab7d3d12c0cd2"
  },
  {
   "cell_type": "code",
   "execution_count": 55,
   "outputs": [
    {
     "name": "stdout",
     "output_type": "stream",
     "text": [
      "0 y1 =  1.000 m f1 = 21.784 m3/s   y2 =  2.000 m f2 =  9.215 m3/s dy = 0.7332\n",
      "1 y1 =  2.000 m f1 =  9.215 m3/s   y2 =  2.733 m f2 = -1.009 m3/s dy = 0.0724\n",
      "2 y1 =  2.733 m f1 = -1.009 m3/s   y2 =  2.661 m f2 =  0.024 m3/s dy = 0.0017\n",
      "3 y1 =  2.661 m f1 =  0.024 m3/s   y2 =  2.663 m f2 =  0.000 m3/s dy = 0.0000\n",
      "yn =  2.663 m\n"
     ]
    }
   ],
   "source": [
    "def secant_yn_rect_chezy(y1, y2, b, C, So, Q, debug):\n",
    "    tol = 0.0005\n",
    "    max_itts = 20\n",
    "\n",
    "    dy = 10.0*tol\n",
    "\n",
    "    for i in range(max_itts):\n",
    "\n",
    "        A1 = b*y1\n",
    "        P1 = b + 2*y1\n",
    "        R1 = A1/P1\n",
    "        Q1 = A1*C*(R1**(0.5))*(So**(0.5))\n",
    "        f1 = Q-Q1\n",
    "    \n",
    "        A2 = b*y2\n",
    "        P2 = b + 2*y2\n",
    "        R2 = A2/P2\n",
    "        Q2 = A2*C*(R2**(0.5))*(So**(0.5))\n",
    "        f2 = Q-Q2\n",
    "\n",
    "        dy = f2*(y2-y1)/(f2-f1)\n",
    "        y_new = y2 - dy\n",
    "        \n",
    "        if(debug == 1):\n",
    "            print(\"%d y1 = %6.3f m f1 = %6.3f m3/s   y2 = %6.3f m f2 = %6.3f m3/s dy = %6.4f\" % (i,y1,f1,y2,f2,abs(dy)))\n",
    "            \n",
    "\n",
    "        if(abs(dy) < tol):\n",
    "            y2 = y_new\n",
    "            break\n",
    "            \n",
    "        y1 = y2\n",
    "        y2 = y_new\n",
    "\n",
    "    if(abs(dy) >= tol):\n",
    "        print(\"WARNING: The secant method did not converge after %d iterations.\" % (max_itts) )\n",
    "\n",
    "    yn = y2\n",
    "    return yn\n",
    "\n",
    "Q = 30\n",
    "b = 6\n",
    "C = 50\n",
    "slope_v = 1\n",
    "slope_h = 1000\n",
    "So = slope_v/slope_h\n",
    "\n",
    "debug = 1\n",
    "\n",
    "y1 = 1\n",
    "y2 = 2\n",
    "yn = secant_yn_rect_chezy(y1, y2, b, C, So, Q, debug)\n",
    "\n",
    "print(\"yn = %6.3f m\" % (yn))"
   ],
   "metadata": {
    "collapsed": false,
    "ExecuteTime": {
     "end_time": "2023-10-12T09:13:39.332209700Z",
     "start_time": "2023-10-12T09:13:39.292698Z"
    }
   },
   "id": "6e0a5c7ed0c1aee9"
  },
  {
   "cell_type": "markdown",
   "source": [],
   "metadata": {
    "collapsed": false
   },
   "id": "f7048719df4a36b1"
  },
  {
   "cell_type": "markdown",
   "source": [
    "## Chezy equation to calculate *normal depth*,  $y_n$ for a Trapezoidal Channel\n",
    "\n",
    " <!--![Properties of a Trapezoidal channel](./images/channel_props_trap.png|width=\"100\")-->\n",
    "\n",
    "Use these formulae for the channel properties\n",
    "\n",
    "<img src=\"./images/channel_props_trap.png\" width=\"600\">\n",
    "\n",
    "In this example calculate the normal depth for a channel with this geometry and discharge:\n",
    "\n",
    "$Q = 4.5m^3/s$, Bed width $b = 3.0m$, Side slope $s = 3$, Bed slope $1:100$, Chezy $C = 80 m^{1/2}/s$"
   ],
   "metadata": {
    "collapsed": false
   },
   "id": "c266bdcdc804848b"
  },
  {
   "cell_type": "code",
   "execution_count": 56,
   "outputs": [
    {
     "name": "stdout",
     "output_type": "stream",
     "text": [
      "yn =  0.254 m\n"
     ]
    }
   ],
   "source": [
    "import math\n",
    "def secant_yn_trap_chezy(y1, y2, b, s, C, So, Q, debug):\n",
    "    tol = 0.0005\n",
    "    max_itts = 20\n",
    "\n",
    "    dy = 10.0*tol\n",
    "\n",
    "    for i in range(max_itts):\n",
    "\n",
    "        A1 = (b + s*y1) * y1\n",
    "        P1 = b + 2 * y1*math.sqrt(1+s*s)\n",
    "        R1 = A1 / P1\n",
    "        Q1 = A1 * C * (R1 ** (0.5)) * (So ** (0.5))\n",
    "        f1 = Q - Q1\n",
    "        if (debug == 2):\n",
    "            print(\"%d A1 = %6.3f m2 P1 = %6.3f m   R1 = %6.3f m Q1 = %6.3f m3/s f1 = %6.4f\" % (i, A1, P1, R1, Q1, f1))\n",
    "        A2 = (b + s*y2) * y2\n",
    "        P2 = b + 2 * y2*math.sqrt(1+s*s)\n",
    "        R2 = A2 / P2\n",
    "        Q2 = A2 * C * (R2 ** (0.5)) * (So ** (0.5))\n",
    "        f2 = Q - Q2\n",
    "        if (debug == 2):\n",
    "            print(\"%d A2 = %6.3f m2 P2 = %6.3f m   R2 = %6.3f m Q2 = %6.3f m3/s f2 = %6.4f\" % (i, A2, P2, R2, Q2, f2))\n",
    "\n",
    "        dy = f2 * (y2 - y1) / (f2 - f1)\n",
    "        y_new = y2 - dy\n",
    "\n",
    "        if (debug > 0):\n",
    "            print(\"%d y1 = %6.3f m f1 = %6.3f m3/s   y2 = %6.3f m f2 = %6.3f m3/s dy = %6.4f\" % (i, y1, f1, y2, f2, abs(dy)))\n",
    "\n",
    "        if (abs(dy) < tol):\n",
    "            y2 = y_new\n",
    "            break\n",
    "\n",
    "        y1 = y2\n",
    "        y2 = y_new\n",
    "\n",
    "    if(abs(dy) >= tol):\n",
    "        print(\"WARNING: The secant method did not converge after %d iterations.\" % (max_itts) )\n",
    "\n",
    "    yn = y2\n",
    "    return yn\n",
    "\n",
    "Q = 4.5\n",
    "b = 4\n",
    "s = 3\n",
    "C = 80\n",
    "slope_v = 1\n",
    "slope_h = 100\n",
    "\n",
    "So = slope_v / slope_h\n",
    "\n",
    "debug = 0\n",
    "\n",
    "y1 = 1\n",
    "y2 = 2\n",
    "yn = secant_yn_trap_chezy(y1, y2, b, s, C, So, Q, debug)\n",
    "\n",
    "print(\"yn = %6.3f m\" % (yn))\n"
   ],
   "metadata": {
    "collapsed": false,
    "ExecuteTime": {
     "end_time": "2023-10-12T09:13:39.332209700Z",
     "start_time": "2023-10-12T09:13:39.313703300Z"
    }
   },
   "id": "762f13e22c7a2bb"
  },
  {
   "cell_type": "markdown",
   "source": [
    "## Manning's equation to calculate *normal depth*,  $y_n$ for a Trapezoidal Channel\n",
    "\n",
    "In this example calculate the normal depth for a channel with this geometry and discharge:\n",
    "\n",
    "$Q =30.0m^3/s$, Bed width $b = 4.0m$, Side slope $s = 2.5$, Bed slope $6.7m$ height drop over $10km$, Manning's $n = 0.015$"
   ],
   "metadata": {
    "collapsed": false
   },
   "id": "8dbdbef77de866eb"
  },
  {
   "cell_type": "code",
   "execution_count": 57,
   "outputs": [
    {
     "name": "stdout",
     "output_type": "stream",
     "text": [
      "0 y1 =  1.000 m f1 = 21.220 m3/s   y2 =  2.000 m f2 = -5.438 m3/s dy = 0.2040\n",
      "1 y1 =  2.000 m f1 = -5.438 m3/s   y2 =  1.796 m f2 =  1.702 m3/s dy = 0.0486\n",
      "2 y1 =  1.796 m f1 =  1.702 m3/s   y2 =  1.845 m f2 =  0.085 m3/s dy = 0.0026\n",
      "3 y1 =  1.845 m f1 =  0.085 m3/s   y2 =  1.847 m f2 = -0.001 m3/s dy = 0.0000\n",
      "yn =  1.847 m\n"
     ]
    }
   ],
   "source": [
    "import math\n",
    "def secant_yn_trap_manning(y1, y2, b, s, n, So, Q, debug):\n",
    "    tol = 0.0005\n",
    "    max_itts = 20\n",
    "\n",
    "    dy = 10.0*tol\n",
    "\n",
    "    for i in range(max_itts):\n",
    "\n",
    "        A1 = (b + s*y1) * y1\n",
    "        P1 = b + 2 * y1*math.sqrt(1+s*s)\n",
    "        R1 = A1 / P1\n",
    "        Q1 = A1 * (R1 ** (2/3)) * (So ** (0.5))/n\n",
    "        f1 = Q - Q1\n",
    "        if (debug == 2):\n",
    "            print(\"%d A1 = %6.3f m2 P1 = %6.3f m   R1 = %6.3f m Q1 = %6.3f m3/s f1 = %6.4f\" % (i, A1, P1, R1, Q1, f1))\n",
    "        A2 = (b + s*y2) * y2\n",
    "        P2 = b + 2 * y2*math.sqrt(1+s*s)\n",
    "        R2 = A2 / P2\n",
    "        Q2 = A2 *  (R2 ** (2/3)) * (So ** (0.5))/n\n",
    "        f2 = Q - Q2\n",
    "        if (debug == 2):\n",
    "            print(\"%d A2 = %6.3f m2 P2 = %6.3f m   R2 = %6.3f m Q2 = %6.3f m3/s f2 = %6.4f\" % (i, A2, P2, R2, Q2, f2))\n",
    "\n",
    "        dy = f2 * (y2 - y1) / (f2 - f1)\n",
    "        y_new = y2 - dy\n",
    "\n",
    "        if (debug > 0):\n",
    "            print(\"%d y1 = %6.3f m f1 = %6.3f m3/s   y2 = %6.3f m f2 = %6.3f m3/s dy = %6.4f\" % (i, y1, f1, y2, f2, abs(dy)))\n",
    "\n",
    "        if (abs(dy) < tol):\n",
    "            y2 = y_new\n",
    "            break\n",
    "\n",
    "        y1 = y2\n",
    "        y2 = y_new\n",
    "\n",
    "    if(abs(dy) >= tol):\n",
    "        print(\"WARNING: The secant method did not converge after %d iterations.\" % (max_itts) )\n",
    "\n",
    "    yn = y2\n",
    "    return yn\n",
    "\n",
    "\n",
    "Q = 30\n",
    "b = 4\n",
    "s = 2.5\n",
    "n = 0.015\n",
    "slope_v = 6.7\n",
    "slope_h = 10000\n",
    "\n",
    "So = slope_v / slope_h\n",
    "\n",
    "debug = 1\n",
    "\n",
    "y1 = 1\n",
    "y2 = 2\n",
    "yn = secant_yn_trap_manning(y1, y2, b, s, n, So, Q, debug)\n",
    "\n",
    "print(\"yn = %6.3f m\" % (yn))\n"
   ],
   "metadata": {
    "collapsed": false,
    "ExecuteTime": {
     "end_time": "2023-10-12T09:13:39.342209500Z",
     "start_time": "2023-10-12T09:13:39.328209600Z"
    }
   },
   "id": "27cc9b6261b7200d"
  },
  {
   "cell_type": "markdown",
   "source": [
    "## Manning's equation to calculate *normal depth*,  $y_n$ for a Circular Channel\n",
    "\n",
    "Use these formulae for the channel properties\n",
    "\n",
    "<img src=\"./images/channel_props_circular.png\" width=\"600\">\n",
    "\n",
    "In this example calculate the normal depth for a channel with this geometry and discharge:\n",
    "\n",
    "$Q = 4.5m^3/s$, Bed width $b = 3.0m$, Side slope $s = 3$, Bed slope $1:100$, Chezy $C = 80 m^{1/2}/s$"
   ],
   "metadata": {
    "collapsed": false
   },
   "id": "e98a027e02347cbc"
  },
  {
   "cell_type": "code",
   "execution_count": 58,
   "outputs": [
    {
     "name": "stdout",
     "output_type": "stream",
     "text": [
      "0 y1 =  1.250 m f1 = -29.527 m3/s   y2 =  2.500 m f2 = -113.078 m3/s dy = 1.6918\n",
      "1 y1 =  2.500 m f1 = -113.078 m3/s   y2 =  0.808 m f2 = -11.052 m3/s dy = 0.1833\n",
      "2 y1 =  0.808 m f1 = -11.052 m3/s   y2 =  0.625 m f2 = -5.665 m3/s dy = 0.1927\n",
      "3 y1 =  0.625 m f1 = -5.665 m3/s   y2 =  0.432 m f2 = -1.537 m3/s dy = 0.0718\n",
      "4 y1 =  0.432 m f1 = -1.537 m3/s   y2 =  0.361 m f2 = -0.409 m3/s dy = 0.0260\n",
      "5 y1 =  0.361 m f1 = -0.409 m3/s   y2 =  0.335 m f2 = -0.055 m3/s dy = 0.0040\n",
      "6 y1 =  0.335 m f1 = -0.055 m3/s   y2 =  0.330 m f2 = -0.003 m3/s dy = 0.0002\n",
      "yn =  0.330 m\n"
     ]
    }
   ],
   "source": [
    "import math\n",
    "def secant_yn_circular_manning(y1, y2, D, n, So, Q, debug):\n",
    "    tol = 0.0005\n",
    "    max_itts = 20\n",
    "\n",
    "    if (debug == 2):\n",
    "        print(\"So = %6.3f   D = %6.3f m  n = %6.5f\" % (So,D,n))\n",
    "\n",
    "    dy = 10.0*tol\n",
    "\n",
    "    for i in range(max_itts):\n",
    "\n",
    "        phi1 = 2*math.acos(1-2*y1/D)\n",
    "        A1 = (phi1 - math.sin(phi1)) * D*D/8\n",
    "        P1 = phi1*D/2\n",
    "        R1 = A1 / P1\n",
    "        Q1 = A1 * (R1 ** (2/3)) * (So ** (0.5))/n\n",
    "        f1 = Q - Q1\n",
    "        if (debug == 2):\n",
    "            print(\"%d phi1 = %6.3f rads  y1 = %6.3f m\" % (i, phi1, y1))\n",
    "            print(\"%d A1 = %6.3f m2 P1 = %6.3f m   R1 = %6.3f m Q1 = %6.3f m3/s f1 = %6.4f\" % (i, A1, P1, R1, Q1, f1))\n",
    "\n",
    "        phi2 = 2*math.acos(1-2*y2/D)\n",
    "        A2 = (phi2 - math.sin(phi2)) * D*D/8\n",
    "        P2 = phi2*D/2\n",
    "        R2 = A2 / P2\n",
    "        Q2 = A2 *  (R2 ** (2/3)) * (So ** (0.5))/n\n",
    "        f2 = Q - Q2\n",
    "        if (debug == 2):\n",
    "            print(\"%d phi2 = %6.3f rads  y2 = %6.3f m\" % (i, phi2, y2))\n",
    "            print(\"%d A2 = %6.3f m2 P2 = %6.3f m   R2 = %6.3f m Q2 = %6.3f m3/s f2 = %6.4f\" % (i, A2, P2, R2, Q2, f2))\n",
    "\n",
    "        dy = f2 * (y2 - y1) / (f2 - f1)\n",
    "        y_new = y2 - dy\n",
    "\n",
    "        if (debug > 0):\n",
    "            print(\"%d y1 = %6.3f m f1 = %6.3f m3/s   y2 = %6.3f m f2 = %6.3f m3/s dy = %6.4f\" % (i, y1, f1, y2, f2, abs(dy)))\n",
    "\n",
    "        if (abs(dy) < tol):\n",
    "            y2 = y_new\n",
    "            break\n",
    "\n",
    "        y1 = y2\n",
    "        y2 = y_new\n",
    "\n",
    "    if(abs(dy) >= tol):\n",
    "        print(\"WARNING: The secant method did not converge after %d iterations.\" % (max_itts) )\n",
    "\n",
    "    yn = y2\n",
    "    return yn\n",
    "\n",
    "Q = 2.0\n",
    "D = 5\n",
    "n = 0.014\n",
    "slope_v = 1.0\n",
    "slope_h = 50\n",
    "\n",
    "So = slope_v / slope_h\n",
    "\n",
    "debug = 1\n",
    "\n",
    "y1 = D/4\n",
    "y2 = D/2\n",
    "yn = secant_yn_circular_manning(y1, y2, D, n, So, Q, debug)\n",
    "\n",
    "print(\"yn = %6.3f m\" % (yn))"
   ],
   "metadata": {
    "collapsed": false,
    "ExecuteTime": {
     "end_time": "2023-10-12T09:13:39.417214200Z",
     "start_time": "2023-10-12T09:13:39.345210700Z"
    }
   },
   "id": "bbc2922b61b09d51"
  },
  {
   "cell_type": "markdown",
   "source": [
    "# Critical Depth Calculations\n",
    "\n",
    "*Critical depth* is the depth when the *Froude number*, $Fr$ is equal to 1.\n",
    "$$Fr = \\frac{V}{\\sqrt{gD_m}} = \\frac{Q}{A\\sqrt{g\\frac{A}{B}}}  $$\n",
    "where $B$ is the surface width\n",
    "\n",
    "So critical flow is $Fr=1$ and also $Fr^2 = 1$\n",
    "$$Fr = \\frac{Q}{A\\sqrt{g\\frac{A}{B}}}  = 1$$\n",
    "and\n",
    "$$Fr^2 = \\frac{V^2}{gD_m} = \\frac{QB}{A^3g} = 1$$\n",
    "\n",
    "In this example, calcuate *critical depth* $y_c$ for the discharge $Q = 30m^3/s$ in a trapezoidal channel, bottom width $b = 4m$, side-slope $s = 2.5$"
   ],
   "metadata": {
    "collapsed": false
   },
   "id": "5bb13e637399019b"
  },
  {
   "cell_type": "code",
   "execution_count": 59,
   "outputs": [
    {
     "name": "stdout",
     "output_type": "stream",
     "text": [
      "0 y1 =  1.000 m f1 = -0.734 m3/s   y2 =  3.000 m f2 =  0.794 m3/s dy = 1.0393\n",
      "1 y1 =  3.000 m f1 =  0.794 m3/s   y2 =  1.961 m f2 =  0.512 m3/s dy = 1.8869\n",
      "2 y1 =  1.961 m f1 =  0.512 m3/s   y2 =  0.074 m f2 = -115.549 m3/s dy = 1.8786\n",
      "3 y1 =  0.074 m f1 = -115.549 m3/s   y2 =  1.952 m f2 =  0.508 m3/s dy = 0.0082\n",
      "4 y1 =  1.952 m f1 =  0.508 m3/s   y2 =  1.944 m f2 =  0.504 m3/s dy = 1.0086\n",
      "5 y1 =  1.944 m f1 =  0.504 m3/s   y2 =  0.936 m f2 = -0.954 m3/s dy = 0.6599\n",
      "6 y1 =  0.936 m f1 = -0.954 m3/s   y2 =  1.596 m f2 =  0.272 m3/s dy = 0.1463\n",
      "7 y1 =  1.596 m f1 =  0.272 m3/s   y2 =  1.449 m f2 =  0.125 m3/s dy = 0.1253\n",
      "8 y1 =  1.449 m f1 =  0.125 m3/s   y2 =  1.324 m f2 = -0.037 m3/s dy = 0.0284\n",
      "9 y1 =  1.324 m f1 = -0.037 m3/s   y2 =  1.352 m f2 =  0.004 m3/s dy = 0.0025\n",
      "10 y1 =  1.352 m f1 =  0.004 m3/s   y2 =  1.350 m f2 =  0.000 m3/s dy = 0.0001\n",
      "yc =  1.350 m\n"
     ]
    }
   ],
   "source": [
    "import math\n",
    "def secant_yc_trap_manning(y1, y2, b, s, Q, debug):\n",
    "    tol = 0.0005\n",
    "    max_itts = 20\n",
    "\n",
    "    g= 9.81\n",
    "\n",
    "    dy = 10.0*tol\n",
    "\n",
    "    for i in range(max_itts):\n",
    "\n",
    "        A1 = (b + s*y1) * y1\n",
    "        B1 = b + 2*s*y1\n",
    "        Fr1 = Q / A1 / math.sqrt(g * A1/B1)\n",
    "        f1 = 1 - Fr1\n",
    "        if (debug == 2):\n",
    "            print(\"%d A1 = %6.3f m2 B1 = %6.3f m   Fr1 = %6.3f m f1 = %6.4f\" % (i, A1, B1, Fr1, f1))\n",
    "        A2 = (b + s*y2) * y2\n",
    "        B2 = b + 2*s*y2\n",
    "        Fr2 = Q / A2 / math.sqrt(g * A2/B2)\n",
    "        f2 = 1 - Fr2\n",
    "        if (debug == 2):\n",
    "            print(\"%d A2 = %6.3f m2 B2 = %6.3f m   Fr2 = %6.3f m f2 = %6.4f\" % (i, A2, B2, Fr2, f2))\n",
    "\n",
    "        dy = f2 * (y2 - y1) / (f2 - f1)\n",
    "        y_new = y2 - dy\n",
    "\n",
    "        if (debug > 0):\n",
    "            print(\"%d y1 = %6.3f m f1 = %6.3f m3/s   y2 = %6.3f m f2 = %6.3f m3/s dy = %6.4f\" % (i, y1, f1, y2, f2, abs(dy)))\n",
    "\n",
    "        if (abs(dy) < tol):\n",
    "            y2 = y_new\n",
    "            break\n",
    "\n",
    "        y1 = y2\n",
    "        y2 = y_new\n",
    "\n",
    "    if(abs(dy) >= tol):\n",
    "        print(\"WARNING: The secant method did not converge after %d iterations.\" % (max_itts) )\n",
    "\n",
    "    yc = y2\n",
    "    return yc\n",
    "\n",
    "\n",
    "Q = 30.0 # m3/s\n",
    "b = 4.0 # m\n",
    "s = 2.5 # no units\n",
    "\n",
    "debug = 1\n",
    "\n",
    "y1 = 1.0 # m\n",
    "y2 = 3.0 # m\n",
    "yc = secant_yc_trap_manning(y1, y2, b, s, Q, debug)\n",
    "\n",
    "\n",
    "print(\"yc = %6.3f m\" % (yc))\n"
   ],
   "metadata": {
    "collapsed": false,
    "ExecuteTime": {
     "end_time": "2023-10-12T09:13:39.422213800Z",
     "start_time": "2023-10-12T09:13:39.359211500Z"
    }
   },
   "id": "a39cfcd18d99f05c"
  },
  {
   "cell_type": "code",
   "execution_count": 59,
   "outputs": [],
   "source": [],
   "metadata": {
    "collapsed": false,
    "ExecuteTime": {
     "end_time": "2023-10-12T09:13:39.422213800Z",
     "start_time": "2023-10-12T09:13:39.373210300Z"
    }
   },
   "id": "1a18c57a82a0ae77"
  }
 ],
 "metadata": {
  "kernelspec": {
   "display_name": "Python 3",
   "language": "python",
   "name": "python3"
  },
  "language_info": {
   "codemirror_mode": {
    "name": "ipython",
    "version": 2
   },
   "file_extension": ".py",
   "mimetype": "text/x-python",
   "name": "python",
   "nbconvert_exporter": "python",
   "pygments_lexer": "ipython2",
   "version": "2.7.6"
  }
 },
 "nbformat": 4,
 "nbformat_minor": 5
}
