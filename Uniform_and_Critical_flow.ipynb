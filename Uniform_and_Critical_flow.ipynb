{
 "cells": [
  {
   "cell_type": "markdown",
   "source": [
    "# Open Channel Flow Calculations\n",
    "\n",
    "## This notebook shows how to calculate some common Open Channel Flow calculations such as:\n",
    "\n",
    "1. $Q$ from $y_n$ (and channel properties) using either Manning's or Chezy equation\n",
    "2. $y_n$ from $Q$ and other channel properties\n",
    "3. Critical depth, $y_c$\n",
    "4. Critical Slope, $So_c$\n",
    "5. Solution of cubic equations e.g. for *Specific Energy* calculations \n"
   ],
   "metadata": {
    "collapsed": false
   },
   "id": "c2597586e1452b89"
  },
  {
   "cell_type": "markdown",
   "source": [
    "## Chezy form of the Uniform Flow equation\n",
    "$$\n",
    "Q = ACR^{1/2}S_o^{1/2}\n",
    "$$\n",
    "\n",
    "## Manning's form of the Uniform Flow equation\n",
    "$$\n",
    "Q = \\frac{1}{n} AR^{2/3}S_o^{1/2}\n",
    "$$"
   ],
   "metadata": {
    "collapsed": false
   },
   "id": "4e581c24fdd62a3d"
  },
  {
   "cell_type": "markdown",
   "source": [
    "## Chezy example $Q$ from $y_n$ for rectangular channel\n",
    "\n",
    "\n",
    "Here are the equations for properties of a rectangular channel given the depth $y$\n",
    "    \n",
    "If flow in a $6m$ wide  rectangular channel is $4m$ deep running when in uniform flow what wiil be the discharge, $Q$ if the Chezy $C = 50 m^{1/2}/s$ and the slope of the channel is 1 in 1000?\n",
    "\n",
    "We will need these equations of the channel properties:\n",
    "![Properties of a rectangular channel](./images/channel_props_rectangular.png \"Properties of a rectangular channel\")\n",
    "\n"
   ],
   "metadata": {
    "collapsed": false
   },
   "id": "b1162922af66410f"
  },
  {
   "cell_type": "code",
   "execution_count": 10,
   "outputs": [
    {
     "name": "stdout",
     "output_type": "stream",
     "text": [
      "Q = 49.685 m^3/s\n"
     ]
    }
   ],
   "source": [
    "b = 6\n",
    "C = 50\n",
    "yn = 4\n",
    "slope_v = 1\n",
    "slope_h = 1000\n",
    "So = slope_v/slope_h\n",
    "\n",
    "A = b*yn\n",
    "P = b + 2*yn\n",
    "R = A/P\n",
    "\n",
    "Q = A*C*(R**0.5)*(So**0.5)\n",
    "\n",
    "print(\"Q = %6.3f m^3/s\" % (Q))"
   ],
   "metadata": {
    "collapsed": false,
    "ExecuteTime": {
     "end_time": "2023-10-09T19:50:13.375027200Z",
     "start_time": "2023-10-09T19:50:13.213330Z"
    }
   },
   "id": "794dae70209bfb8c"
  },
  {
   "cell_type": "markdown",
   "source": [
    "## Manning's example $Q$ from $y_n$ for rectangular channel\n",
    "\n",
    "Same example aas above but use Manning's $n = 0.02$\n",
    " \n",
    "\n"
   ],
   "metadata": {
    "collapsed": false
   },
   "id": "626a2ba0e793831a"
  },
  {
   "cell_type": "code",
   "execution_count": 11,
   "outputs": [
    {
     "name": "stdout",
     "output_type": "stream",
     "text": [
      "Q = 54.355 m^3/s\n"
     ]
    }
   ],
   "source": [
    "b = 6\n",
    "n = 0.02\n",
    "yn = 4\n",
    "slope_v = 1\n",
    "slope_h = 1000\n",
    "So = slope_v/slope_h\n",
    "\n",
    "A = b*yn\n",
    "P = b + 2*yn\n",
    "R = A/P\n",
    "\n",
    "Q = A*(R**(2/3))*(So**0.5)/n\n",
    "\n",
    "print(\"Q = %6.3f m^3/s\" % (Q))"
   ],
   "metadata": {
    "collapsed": false,
    "ExecuteTime": {
     "end_time": "2023-10-09T19:54:20.874951500Z",
     "start_time": "2023-10-09T19:54:20.819020300Z"
    }
   },
   "id": "9a29f3bc13ceea30"
  },
  {
   "cell_type": "markdown",
   "source": [
    "## Chezy equation calculate *normal depth*, $y_n$, from $Q$ and channel properties\n",
    "\n",
    "For a $6m$ wide rectangular channel flowing in *uniform flow* with $Q = 30m^3/s$ calculate the normal depth $y_n$ \n",
    "if the Chezy $C = 50 m^{1/2}/s$ and the channel slopes with a drop of $1m$ in $1000m$"
   ],
   "metadata": {
    "collapsed": false
   },
   "id": "4c1ab7d3d12c0cd2"
  },
  {
   "cell_type": "code",
   "execution_count": 24,
   "outputs": [
    {
     "name": "stdout",
     "output_type": "stream",
     "text": [
      "0 y1 =  1.000 m f1 = 21.784 m3/s   y2 =  2.000 m f2 =  9.215 m3/s dy = 0.7332\n",
      "1 y1 =  2.000 m f1 =  9.215 m3/s   y2 =  2.733 m f2 = -1.009 m3/s dy = 0.0724\n",
      "2 y1 =  2.733 m f1 = -1.009 m3/s   y2 =  2.661 m f2 =  0.024 m3/s dy = 0.0017\n",
      "3 y1 =  2.661 m f1 =  0.024 m3/s   y2 =  2.663 m f2 =  0.000 m3/s dy = 0.0000\n",
      "yn =  2.663 m\n"
     ]
    }
   ],
   "source": [
    "\n",
    "def secant_yn_rect_chezy(y1, y2, b, C, So, Q, debug):\n",
    "    yn = (y1+y2)/2\n",
    "    \n",
    "    tol = 0.0005\n",
    "    max_itts = 20\n",
    "    \n",
    "    for i in range(max_itts):\n",
    "\n",
    "        A1 = b*y1\n",
    "        P1 = b + 2*y1\n",
    "        R1 = A1/P1\n",
    "        Q1 = A1*C*(R1**(0.5))*(So**(0.5))\n",
    "        f1 = Q-Q1\n",
    "    \n",
    "        A2 = b*y2\n",
    "        P2 = b + 2*y2\n",
    "        R2 = A2/P2\n",
    "        Q2 = A2*C*(R2**(0.5))*(So**(0.5))\n",
    "        f2 = Q-Q2\n",
    "\n",
    "        dy = f2*(y2-y1)/(f2-f1)\n",
    "        y_new = y2 - dy\n",
    "        \n",
    "        if(debug == 1):\n",
    "            print(\"%d y1 = %6.3f m f1 = %6.3f m3/s   y2 = %6.3f m f2 = %6.3f m3/s dy = %6.4f\" % (i,y1,f1,y2,f2,abs(dy)))\n",
    "            \n",
    "\n",
    "        if(abs(dy) < tol):\n",
    "            y2 = y_new\n",
    "            break\n",
    "            \n",
    "        y1 = y2\n",
    "        y2 = y_new\n",
    "    \n",
    "    yn = y2\n",
    "    return yn\n",
    "\n",
    "Q = 30\n",
    "b = 6\n",
    "C = 50\n",
    "slope_v = 1\n",
    "slope_h = 1000\n",
    "So = slope_v/slope_h\n",
    "\n",
    "debug = 1\n",
    "\n",
    "y1 = 1\n",
    "y2 = 2\n",
    "yn = secant_yn_rect_chezy(y1, y2, b, C, So, Q, debug)\n",
    "\n",
    "print(\"yn = %6.3f m\" % (yn))"
   ],
   "metadata": {
    "collapsed": false,
    "ExecuteTime": {
     "end_time": "2023-10-09T20:27:57.969043100Z",
     "start_time": "2023-10-09T20:27:57.931283700Z"
    }
   },
   "id": "6e0a5c7ed0c1aee9"
  },
  {
   "cell_type": "code",
   "execution_count": 40,
   "outputs": [
    {
     "name": "stdout",
     "output_type": "stream",
     "text": [
      "yn =  0.254 m\n"
     ]
    }
   ],
   "source": [
    "import math\n",
    "def secant_yn_trap_chezy(y1, y2, b, s, C, So, Q, debug):\n",
    "    tol = 0.0005\n",
    "    max_itts = 20\n",
    "\n",
    "    for i in range(max_itts):\n",
    "\n",
    "        A1 = (b + s*y1) * y1\n",
    "        P1 = b + 2 * y1*math.sqrt(1+s*s)\n",
    "        R1 = A1 / P1\n",
    "        Q1 = A1 * C * (R1 ** (0.5)) * (So ** (0.5))\n",
    "        f1 = Q - Q1\n",
    "        if (debug == 2):\n",
    "            print(\"%d A1 = %6.3f m2 P1 = %6.3f m   R1 = %6.3f m Q1 = %6.3f m3/s f1 = %6.4f\" % (i, A1, P1, R1, Q1, f1))\n",
    "        A2 = (b + s*y2) * y2\n",
    "        P2 = b + 2 * y2*math.sqrt(1+s*s)\n",
    "        R2 = A2 / P2\n",
    "        Q2 = A2 * C * (R2 ** (0.5)) * (So ** (0.5))\n",
    "        f2 = Q - Q2\n",
    "        if (debug == 2):\n",
    "            print(\"%d A2 = %6.3f m2 P2 = %6.3f m   R2 = %6.3f m Q2 = %6.3f m3/s f2 = %6.4f\" % (i, A2, P2, R2, Q2, f2))\n",
    "\n",
    "        dy = f2 * (y2 - y1) / (f2 - f1)\n",
    "        y_new = y2 - dy\n",
    "\n",
    "        if (debug > 0):\n",
    "            print(\"%d y1 = %6.3f m f1 = %6.3f m3/s   y2 = %6.3f m f2 = %6.3f m3/s dy = %6.4f\" % (i, y1, f1, y2, f2, abs(dy)))\n",
    "\n",
    "        if (abs(dy) < tol):\n",
    "            y2 = y_new\n",
    "            break\n",
    "\n",
    "        y1 = y2\n",
    "        y2 = y_new\n",
    "\n",
    "    yn = y2\n",
    "    return yn\n",
    "\n",
    "\n",
    "Q = 4.5\n",
    "b = 4\n",
    "s = 3\n",
    "C = 80\n",
    "slope_v = 1\n",
    "slope_h = 100\n",
    "\n",
    "So = slope_v / slope_h\n",
    "\n",
    "debug = 0\n",
    "\n",
    "y1 = 1\n",
    "y2 = 2\n",
    "yn = secant_yn_trap_chezy(y1, y2, b, s, C, So, Q, debug)\n",
    "\n",
    "print(\"yn = %6.3f m\" % (yn))\n"
   ],
   "metadata": {
    "collapsed": false,
    "ExecuteTime": {
     "end_time": "2023-10-09T20:41:46.225089300Z",
     "start_time": "2023-10-09T20:41:46.174757800Z"
    }
   },
   "id": "762f13e22c7a2bb"
  },
  {
   "cell_type": "code",
   "execution_count": 45,
   "outputs": [
    {
     "name": "stdout",
     "output_type": "stream",
     "text": [
      "0 y1 =  1.000 m f1 = 21.220 m3/s   y2 =  2.000 m f2 = -5.438 m3/s dy = 0.2040\n",
      "1 y1 =  2.000 m f1 = -5.438 m3/s   y2 =  1.796 m f2 =  1.702 m3/s dy = 0.0486\n",
      "2 y1 =  1.796 m f1 =  1.702 m3/s   y2 =  1.845 m f2 =  0.085 m3/s dy = 0.0026\n",
      "3 y1 =  1.845 m f1 =  0.085 m3/s   y2 =  1.847 m f2 = -0.001 m3/s dy = 0.0000\n",
      "yn =  1.847 m\n"
     ]
    }
   ],
   "source": [
    "import math\n",
    "def secant_yn_trap_manning(y1, y2, b, s, n, So, Q, debug):\n",
    "    tol = 0.0005\n",
    "    max_itts = 20\n",
    "\n",
    "    for i in range(max_itts):\n",
    "\n",
    "        A1 = (b + s*y1) * y1\n",
    "        P1 = b + 2 * y1*math.sqrt(1+s*s)\n",
    "        R1 = A1 / P1\n",
    "        Q1 = A1 * (R1 ** (2/3)) * (So ** (0.5))/n\n",
    "        f1 = Q - Q1\n",
    "        if (debug == 2):\n",
    "            print(\"%d A1 = %6.3f m2 P1 = %6.3f m   R1 = %6.3f m Q1 = %6.3f m3/s f1 = %6.4f\" % (i, A1, P1, R1, Q1, f1))\n",
    "        A2 = (b + s*y2) * y2\n",
    "        P2 = b + 2 * y2*math.sqrt(1+s*s)\n",
    "        R2 = A2 / P2\n",
    "        Q2 = A2 *  (R2 ** (2/3)) * (So ** (0.5))/n\n",
    "        f2 = Q - Q2\n",
    "        if (debug == 2):\n",
    "            print(\"%d A2 = %6.3f m2 P2 = %6.3f m   R2 = %6.3f m Q2 = %6.3f m3/s f2 = %6.4f\" % (i, A2, P2, R2, Q2, f2))\n",
    "\n",
    "        dy = f2 * (y2 - y1) / (f2 - f1)\n",
    "        y_new = y2 - dy\n",
    "\n",
    "        if (debug > 0):\n",
    "            print(\"%d y1 = %6.3f m f1 = %6.3f m3/s   y2 = %6.3f m f2 = %6.3f m3/s dy = %6.4f\" % (i, y1, f1, y2, f2, abs(dy)))\n",
    "\n",
    "        if (abs(dy) < tol):\n",
    "            y2 = y_new\n",
    "            break\n",
    "\n",
    "        y1 = y2\n",
    "        y2 = y_new\n",
    "\n",
    "    yn = y2\n",
    "    return yn\n",
    "\n",
    "\n",
    "Q = 30\n",
    "b = 4\n",
    "s = 2.5\n",
    "n = 0.015\n",
    "slope_v = 6.7\n",
    "slope_h = 10000\n",
    "\n",
    "So = slope_v / slope_h\n",
    "\n",
    "debug = 1\n",
    "\n",
    "y1 = 1\n",
    "y2 = 2\n",
    "yn = secant_yn_trap_manning(y1, y2, b, s, n, So, Q, debug)\n",
    "\n",
    "print(\"yn = %6.3f m\" % (yn))\n"
   ],
   "metadata": {
    "collapsed": false,
    "ExecuteTime": {
     "end_time": "2023-10-09T20:45:37.087016500Z",
     "start_time": "2023-10-09T20:45:37.008829Z"
    }
   },
   "id": "27cc9b6261b7200d"
  },
  {
   "cell_type": "code",
   "execution_count": null,
   "outputs": [],
   "source": [],
   "metadata": {
    "collapsed": false
   },
   "id": "b96e7744b086006d"
  }
 ],
 "metadata": {
  "kernelspec": {
   "display_name": "Python 3",
   "language": "python",
   "name": "python3"
  },
  "language_info": {
   "codemirror_mode": {
    "name": "ipython",
    "version": 2
   },
   "file_extension": ".py",
   "mimetype": "text/x-python",
   "name": "python",
   "nbconvert_exporter": "python",
   "pygments_lexer": "ipython2",
   "version": "2.7.6"
  }
 },
 "nbformat": 4,
 "nbformat_minor": 5
}
