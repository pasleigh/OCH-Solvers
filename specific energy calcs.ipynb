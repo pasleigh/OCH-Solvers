{
 "cells": [
  {
   "cell_type": "markdown",
   "source": [
    "\n",
    "\n",
    "# Calcuations of Rapidly varied Flow: Mainly using the  Specific Engery equation\n",
    "\n",
    "The *Specific Energy* equation take the form\n",
    "$$E_s = y + \\frac{V^2}{2g}$$\n",
    "Or in $Q$ form\n",
    "$$E_s = y + \\frac{Q^2}{2gA^2}$$\n",
    "It is usually applied to a square channel (as are all of these examples), so as $A=by$, the above equation becomes\n",
    "$$E_s = y + \\frac{Q^2}{2gb^2y^2}$$\n",
    "But also analysis (of rectangular channels) often uses the concept of *flow per unit width*, $q$, where\n",
    "$$q = Q/b$$\n",
    "or \n",
    "$$Q = qb$$\n",
    "Where $b$ is eh bed width and the surface width in a rectangular channel\n",
    "\n",
    "So this gives rise to \n",
    "$$E_s = y + \\frac{q^2}{2gy^2}$$\n",
    "\n",
    "The specific energy concept is usually applied to situations and lengths of channel, usually when flow converges and thus there is little energy loss i.e. energy is conserved over these short distances. So we say that, between teo points 1 and 2 where energy losses can be ignored\n",
    "$$E_s_1 = E_s_2$$\n",
    "and so \n",
    "$$y_1 + \\frac{V_1^2}{2g} =y_2 + \\frac{V_2^2}{2g}$$  \n",
    "or for a rectangular channel\n",
    "$$y_1 + \\frac{Q^2}{2gb_1^2y_1^2}  = y_2 + \\frac{Q^2}{2gb_2^2y_2^2}$$\n",
    "or\n",
    "$$y_1 + \\frac{q_1^2}{2gy_1^2} = y_2 + \\frac{q_2^2}{2gy_2^2}$$\n",
    "\n",
    "When the channel is not contraction i.e. it is a constant width, then using the fact that $b_1 = b_2 = b$, then this equation simplifies to\n",
    "$$y_1 + \\frac{Q^2}{2gb^2y_1^2}  = y_2 + \\frac{Q^2}{2gb^2y_2^2}$$\n",
    "and\n",
    "$$y_1 + \\frac{q^2}{2gy_1^2} = y_2 + \\frac{q^2}{2gy_2^2}$$\n",
    "\n"
   ],
   "metadata": {
    "collapsed": false
   },
   "id": "7303ff7719ca53f"
  },
  {
   "cell_type": "markdown",
   "source": [
    "## Solution of the *specific energy* equation\n",
    "\n",
    "Often we will know the discharge (flow) $Q$ and width , so know $q$, and know either $y_1$ or  $y_2$. When this is the case the resulting equation is a*cubic equatioN* in the unknow depth. e.g. if $q$ and $y_1$ are know the equation can be earranged to in the form of a *cubic* in $y_2$:\n",
    "$$0= y_2^3  + \\left(- y_1 - \\frac{q^2}{2gy_1^2}\\right)y_2^2 + \\frac{q^2}{2g}$$\n",
    "As with all cubics, this equation has three solutions.\n",
    "\n",
    "The reason for pointing this out is that is to show that it is often necessary to solve a cubic equation when analysing open channel flow using the specifc energy approach.\n",
    "So it is necessary to know how to solve cubic equations. That is the objecting of the next few cells in this notebook.\n"
   ],
   "metadata": {
    "collapsed": false
   },
   "id": "4ab54da9fa8e46d1"
  },
  {
   "cell_type": "markdown",
   "source": [
    "Let's first look at an example and look at the magnitude of the *numbers* to help form the solution for a typical channel.\n",
    "\n",
    "Eg 1.\n",
    "\n",
    "A steady uniform flow in a rectangular channel of width $b = 5m$ is interrupted by the presence of a bump of $0.2m$ in the channel. The upstream depth is $y_1 = 1.25m$ and the discharge is $Q = 10m^3/s$, find the depth of flow at position 2\n",
    "\n",
    "We need to just think about the speficic energy equation again to take account of the bump height. Remembering that this equation is based on the *Bernoulli* equation on a flat bed, we can see that we need to add in the height change between point 1 and 2 (or the *potential energy* gain). So between points 1 and 2 we can write \n",
    "$$E_s_1 = E_s_2 + \\Delta z$$\n",
    "Where $\\Delta z$ is the height of the bump. So $\\Delta z = 0.2m$ in this example\n",
    "\n",
    "For this rectangular channel we can write\n",
    "\n",
    "$$y_1 + \\frac{q_1^2}{2gy_1^2} = y_2 + \\frac{q_2^2}{2gy_2^2} + \\Delta z$$\n",
    "\n",
    "And taking into account the known values this can be rearranged into a similar cubic in terms of $y_2$ as shown above\n",
    "$$0= y_2^3 + \\left(\\Delta z - y_1 - \\frac{q^2}{2gy_1^2} \\right )y_2^2 + \\frac{q^2}{2g}$$\n",
    "\n",
    "We can calculate $q = \\frac{Q}{b} = \\frac{10}{5} = 2.0 (m^3/s)/m$ and conservation of energy becomes (using $g= 9.81 m/s^2$)\n",
    "$$0= y_2^3 + \\left(0.2 - 1.25 - \\frac{2.0^2}{2 \\times 9.81 \\times 1.25^2} \\right )y_2^2 + \\frac{2.0^2}{2 \\times 9.81}$$\n",
    "Or\n",
    "$$0= y_2^3 -1.18 y_2^2 + 0.204$$\n",
    "\n",
    "The next cell will show the python code to solve this specific example.\n"
   ],
   "metadata": {
    "collapsed": false
   },
   "id": "681b408e74625fae"
  },
  {
   "cell_type": "code",
   "execution_count": null,
   "outputs": [],
   "source": [
    "\n",
    "\n",
    "\n",
    "\n",
    "\n",
    "\n",
    "\n",
    "\n",
    "\n"
   ],
   "metadata": {
    "collapsed": false
   },
   "id": "b3e6f0d0b93282c5"
  }
 ],
 "metadata": {
  "kernelspec": {
   "display_name": "Python 3",
   "language": "python",
   "name": "python3"
  },
  "language_info": {
   "codemirror_mode": {
    "name": "ipython",
    "version": 2
   },
   "file_extension": ".py",
   "mimetype": "text/x-python",
   "name": "python",
   "nbconvert_exporter": "python",
   "pygments_lexer": "ipython2",
   "version": "2.7.6"
  }
 },
 "nbformat": 4,
 "nbformat_minor": 5
}
