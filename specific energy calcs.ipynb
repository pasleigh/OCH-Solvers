{
 "cells": [
  {
   "cell_type": "markdown",
   "source": [
    "\n",
    "\n",
    "# Calcuations of Rapidly varied Flow: Mainly using the  Specific Engery equation\n",
    "\n",
    "The *Specific Energy* equation take the form\n",
    "$$E_s = y + \\frac{V^2}{2g}$$\n",
    "Or in $Q$ form\n",
    "$$E_s = y + \\frac{Q^2}{2gA^2}$$\n",
    "It is usually applied to a square channel (as are all of these examples), so as $A=by$, the above equation becomes\n",
    "$$E_s = y + \\frac{Q^2}{2gb^2y^2}$$\n",
    "But also analysis (of rectangular channels) often uses the concept of *flow per unit width*, $q$, where\n",
    "$$q = Q/b$$\n",
    "or \n",
    "$$Q = qb$$\n",
    "Where $b$ is eh bed width and the surface width in a rectangular channel\n",
    "\n",
    "So this gives rise to \n",
    "$$E_s = y + \\frac{q^2}{2gy^2}$$\n",
    "\n",
    "The specific energy concept is usually applied to situations and lengths of channel, usually when flow converges and thus there is little energy loss i.e. energy is conserved over these short distances. So we say that, between teo points 1 and 2 where energy losses can be ignored\n",
    "$$E_s_1 = E_s_2$$\n",
    "and so \n",
    "$$y_1 + \\frac{V_1^2}{2g} =y_2 + \\frac{V_2^2}{2g}$$  \n",
    "or for a rectangular channel\n",
    "$$y_1 + \\frac{Q^2}{2gb_1^2y_1^2}  = y_2 + \\frac{Q^2}{2gb_2^2y_2^2}$$\n",
    "or\n",
    "$$y_1 + \\frac{q_1^2}{2gy_1^2} = y_2 + \\frac{q_2^2}{2gy_2^2}$$\n",
    "\n",
    "When the channel is not contraction i.e. it is a constant width, then using the fact that $b_1 = b_2 = b$, then this equation simplifies to\n",
    "$$y_1 + \\frac{Q^2}{2gb^2y_1^2}  = y_2 + \\frac{Q^2}{2gb^2y_2^2}$$\n",
    "and\n",
    "$$y_1 + \\frac{q^2}{2gy_1^2} = y_2 + \\frac{q^2}{2gy_2^2}$$\n",
    "\n"
   ],
   "metadata": {
    "collapsed": false
   },
   "id": "7303ff7719ca53f"
  },
  {
   "cell_type": "markdown",
   "source": [
    "## Solution of the *specific energy* equation\n",
    "\n",
    "Often we will know the discharge (flow) $Q$ and width , so know $q$, and know either $y_1$ or  $y_2$. When this is the case the resulting equation is a*cubic equatioN* in the unknow depth. e.g. if $q$ and $y_1$ are know the equation can be earranged to in the form of a *cubic* in $y_2$:\n",
    "$$0= y_2^3  + \\left(- y_1 - \\frac{q^2}{2gy_1^2}\\right)y_2^2 + \\frac{q^2}{2g}$$\n",
    "As with all cubics, this equation has three solutions.\n",
    "\n",
    "The reason for pointing this out is that is to show that it is often necessary to solve a cubic equation when analysing open channel flow using the specifc energy approach.\n",
    "So it is necessary to know how to solve cubic equations. That is the objecting of the next few cells in this notebook.\n"
   ],
   "metadata": {
    "collapsed": false
   },
   "id": "4ab54da9fa8e46d1"
  },
  {
   "cell_type": "markdown",
   "source": [
    "Let's first look at an example and look at the magnitude of the *numbers* to help form the solution for a typical channel.\n",
    "\n",
    "Eg 1.\n",
    "\n",
    "A steady uniform flow in a rectangular channel of width $b = 5m$ is interrupted by the presence of a bump of $0.2m$ in the channel. The upstream depth is $y_1 = 1.25m$ and the discharge is $Q = 10m^3/s$, find the depth of flow at position 2\n",
    "\n",
    "We need to just think about the speficic energy equation again to take account of the bump height. Remembering that this equation is based on the *Bernoulli* equation on a flat bed, we can see that we need to add in the height change between point 1 and 2 (or the *potential energy* gain). So between points 1 and 2 we can write \n",
    "$$E_s_1 = E_s_2 + \\Delta z$$\n",
    "Where $\\Delta z$ is the height of the bump. So $\\Delta z = 0.2m$ in this example\n",
    "\n",
    "For this rectangular channel we can write\n",
    "\n",
    "$$y_1 + \\frac{q_1^2}{2gy_1^2} = y_2 + \\frac{q_2^2}{2gy_2^2} + \\Delta z$$\n",
    "\n",
    "And taking into account the known values this can be rearranged into a similar cubic in terms of $y_2$ as shown above\n",
    "$$0= y_2^3 + \\left(\\Delta z - y_1 - \\frac{q^2}{2gy_1^2} \\right )y_2^2 + \\frac{q^2}{2g}$$\n",
    "\n",
    "We can calculate $q = \\frac{Q}{b} = \\frac{10}{5} = 2.0 (m^3/s)/m$ and conservation of energy becomes (using $g= 9.81 m/s^2$)\n",
    "$$0= y_2^3 + \\left(0.2 - 1.25 - \\frac{2.0^2}{2 \\times 9.81 \\times 1.25^2} \\right )y_2^2 + \\frac{2.0^2}{2 \\times 9.81}$$\n",
    "Or\n",
    "$$0= y_2^3 -1.18 y_2^2 + 0.204$$\n",
    "\n",
    "The subsequent cells will plot this function and show the python code to solve this specific example.\n"
   ],
   "metadata": {
    "collapsed": false
   },
   "id": "681b408e74625fae"
  },
  {
   "cell_type": "code",
   "execution_count": 20,
   "outputs": [
    {
     "data": {
      "text/plain": "<Figure size 640x480 with 1 Axes>",
      "image/png": "[encoded data removed]"
     },
     "metadata": {},
     "output_type": "display_data"
    }
   ],
   "source": [
    "# Plot the function\n",
    "\n",
    "def f_cubic(A, B, C, D, x):\n",
    "    f_cubic = A * x * x * x + B * x * x + C * x + D\n",
    "    return f_cubic\n",
    "\n",
    "import numpy as np\n",
    "from matplotlib import pyplot as plt\n",
    "\n",
    "A = 1\n",
    "B = -1.18\n",
    "C = 0\n",
    "D = 0.204\n",
    "\n",
    "y_low = -0.5\n",
    "y_high = 1.0\n",
    "num_intervals = 100\n",
    "\n",
    "\n",
    "y = np.linspace(y_low, y_high, num_intervals)\n",
    "\n",
    "plt.plot(y, f_cubic(A, B, C, D, y), color='blue')\n",
    "plt.grid()\n",
    "plt.show()"
   ],
   "metadata": {
    "collapsed": false,
    "ExecuteTime": {
     "end_time": "2023-10-11T20:50:17.487662700Z",
     "start_time": "2023-10-11T20:50:17.318999700Z"
    }
   },
   "id": "f8aca847e2f49f6d"
  },
  {
   "cell_type": "markdown",
   "source": [
    "From the above python cell and chart we can see that the three roots are approocimately -0.45, 0.58, 0.95. \n",
    "\n",
    "We can use this information to help the secant solver below get more precice numerical answers"
   ],
   "metadata": {
    "collapsed": false
   },
   "id": "ff2e0562311b5fb1"
  },
  {
   "cell_type": "code",
   "execution_count": 25,
   "outputs": [
    {
     "name": "stdout",
     "output_type": "stream",
     "text": [
      "Solution 1 is: y = -0.364\n",
      "Solution 2 is: y =  0.586\n",
      "Solution 3 is: y =  0.957\n",
      "The highest solutions to this quadratic is: y =  0.958\n"
     ]
    }
   ],
   "source": [
    "def SecantCubic(A , B , C , D, error , num , x0 , x1, debug):\n",
    "    x2 = (x0 + x1) / 2\n",
    "    \n",
    "    step = 1\n",
    "    Condition = True\n",
    "    \n",
    "    i = 0\n",
    "    while Condition:\n",
    "        f0 = f_cubic(A, B, C, D, x0)\n",
    "        f1 = f_cubic(A, B, C, D, x1)\n",
    "\n",
    "        if(debug > 0):\n",
    "            print(\"SecantCubic: %d x0=%6.3f f0=%6.3f\" %(i, x0, f0))\n",
    "            print(\"SecantCubic: %d x1=%6.3f f1=%6.3f\" %(i, x1, f1))\n",
    "\n",
    "        if(f0 == f1):\n",
    "            msg = \"Divide by zero\"\n",
    "            print(\"%s\" %(msg))\n",
    "            break\n",
    "            \n",
    "        x2 = x0 - f0 * (x1 - x0) / (f1 - f0)\n",
    "        f2 = f_cubic(A, B, C, D, x2)\n",
    "        if(debug > 0):\n",
    "            print(\"SecantCubic: %d x2=%6.3f f2=%6.3f\" %(i, x2, f2))\n",
    "        \n",
    "        x0 = x1\n",
    "        x1 = x2\n",
    "        \n",
    "        step = step + 1\n",
    "        \n",
    "        if step > num:\n",
    "            msg = \"not convergent\"\n",
    "            print(\"%s\" %(msg))\n",
    "            Condition = False\n",
    "            \n",
    "        if(abs(f2) < error):\n",
    "            # SUCCESS\n",
    "            Condition = False\n",
    "        \n",
    "        i = i + 1\n",
    "        \n",
    "    return x2\n",
    "\n",
    "\n",
    "     \n",
    "\n",
    "def GetHighestCubicDepth(A, B, C, D, x_low, x_high, num_intervals, debug):\n",
    "    \n",
    "    # steps from x_high to x_low to find first solution\n",
    "    dx = (x_high - x_low) / num_intervals\n",
    "    x0 = x_high\n",
    "    \n",
    "    root = -1\n",
    "    \n",
    "    error = 0.001\n",
    "    num = 10\n",
    "    \n",
    "    for i in range(num_intervals):\n",
    "        x1 = x0 - dx\n",
    "        f0 = f_cubic(A, B, C, D, x0)\n",
    "        f1 = f_cubic(A, B, C, D, x1)\n",
    "\n",
    "        if(debug > 1):\n",
    "            print(\"HighestCubicDepth: x0=%6.3f f0=%6.3f x2=%6.3f f1=%6.3f\" %( x0, f0, x1, f1))\n",
    "            \n",
    "        if(f0 * f1 < 0):\n",
    "            # solution between x0 and x1\n",
    "            root = SecantCubic(A, B, C, D, error, num, x0, x1, debug)\n",
    "            break\n",
    "\n",
    "        x0 = x1\n",
    "        \n",
    "    return root\n",
    "    \n",
    "A = 1\n",
    "B = -1.18 \n",
    "C = 0\n",
    "D = 0.204\n",
    "\n",
    "\n",
    "tolerance = 0.0001\n",
    "max_itterations = 10\n",
    "debug = 0\n",
    "\n",
    "y1 = -0.4\n",
    "y2 = 0\n",
    "y2 = SecantCubic(A , B , C , D, tolerance , max_itterations , y1 , y2, debug)\n",
    "print(\"Solution 1 is: y = %6.3f\" % (y2))\n",
    "\n",
    "\n",
    "y1 = 0.5\n",
    "y2 = 0.7\n",
    "y2 = SecantCubic(A , B , C , D, tolerance , max_itterations , y1 , y2, debug)\n",
    "print(\"Solution 2 is: y = %6.3f\" % (y2))\n",
    "\n",
    "\n",
    "y1 = 1.0\n",
    "y2 = 2\n",
    "y2 = SecantCubic(A , B , C , D, tolerance , max_itterations , y1 , y2, debug)\n",
    "print(\"Solution 3 is: y = %6.3f\" % (y2))\n",
    "\n",
    "y_low = 0\n",
    "y_high = 2\n",
    "num_intervals = 30\n",
    "\n",
    "y2 = GetHighestCubicDepth(A,B,C,D,y_low,y_high, num_intervals,debug)\n",
    "\n",
    "print(\"The highest solutions to this quadratic is: y = %6.3f\" % (y2))"
   ],
   "metadata": {
    "collapsed": false,
    "ExecuteTime": {
     "end_time": "2023-10-11T20:57:35.162775100Z",
     "start_time": "2023-10-11T20:57:35.142084600Z"
    }
   },
   "id": "b3e6f0d0b93282c5"
  },
  {
   "cell_type": "code",
   "execution_count": null,
   "outputs": [],
   "source": [],
   "metadata": {
    "collapsed": false
   },
   "id": "a1b51015302eabe2"
  }
 ],
 "metadata": {
  "kernelspec": {
   "display_name": "Python 3",
   "language": "python",
   "name": "python3"
  },
  "language_info": {
   "codemirror_mode": {
    "name": "ipython",
    "version": 2
   },
   "file_extension": ".py",
   "mimetype": "text/x-python",
   "name": "python",
   "nbconvert_exporter": "python",
   "pygments_lexer": "ipython2",
   "version": "2.7.6"
  }
 },
 "nbformat": 4,
 "nbformat_minor": 5
}
